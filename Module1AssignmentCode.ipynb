{
 "cells": [
  {
   "cell_type": "code",
   "execution_count": 1,
   "id": "bba79f47-0462-4b1f-b8c6-92405ed4d7ab",
   "metadata": {},
   "outputs": [],
   "source": [
    "%matplotlib inline "
   ]
  },
  {
   "cell_type": "code",
   "execution_count": 2,
   "id": "df45d5d0-7fcb-42b7-bfe7-48fd5c3b0b6c",
   "metadata": {},
   "outputs": [],
   "source": [
    "import pandas as pd"
   ]
  },
  {
   "cell_type": "code",
   "execution_count": 3,
   "id": "ef51c39a-f623-4dca-9524-7d8d9be13cf3",
   "metadata": {},
   "outputs": [],
   "source": [
    "file = 'Carlos_Alcaraz_Stats.xlsx'"
   ]
  },
  {
   "cell_type": "code",
   "execution_count": 4,
   "id": "c477566e-90a8-4df1-bdc3-e075f5a07cd3",
   "metadata": {},
   "outputs": [
    {
     "data": {
      "text/html": [
       "<div>\n",
       "<style scoped>\n",
       "    .dataframe tbody tr th:only-of-type {\n",
       "        vertical-align: middle;\n",
       "    }\n",
       "\n",
       "    .dataframe tbody tr th {\n",
       "        vertical-align: top;\n",
       "    }\n",
       "\n",
       "    .dataframe thead th {\n",
       "        text-align: right;\n",
       "    }\n",
       "</style>\n",
       "<table border=\"1\" class=\"dataframe\">\n",
       "  <thead>\n",
       "    <tr style=\"text-align: right;\">\n",
       "      <th></th>\n",
       "      <th>Tournament</th>\n",
       "      <th>Year</th>\n",
       "      <th>Age</th>\n",
       "      <th>Surface</th>\n",
       "      <th>Round</th>\n",
       "      <th>Rank</th>\n",
       "      <th>Age Milestone</th>\n",
       "    </tr>\n",
       "  </thead>\n",
       "  <tbody>\n",
       "    <tr>\n",
       "      <th>0</th>\n",
       "      <td>ITF Spain F5</td>\n",
       "      <td>2018</td>\n",
       "      <td>15</td>\n",
       "      <td>Clay</td>\n",
       "      <td>QF</td>\n",
       "      <td>0</td>\n",
       "      <td>Turned pro</td>\n",
       "    </tr>\n",
       "    <tr>\n",
       "      <th>1</th>\n",
       "      <td>ITF M15 Palmanova</td>\n",
       "      <td>2019</td>\n",
       "      <td>15</td>\n",
       "      <td>Clay</td>\n",
       "      <td>SF</td>\n",
       "      <td>0</td>\n",
       "      <td>NaN</td>\n",
       "    </tr>\n",
       "    <tr>\n",
       "      <th>2</th>\n",
       "      <td>Alicante Ferrero Challenger</td>\n",
       "      <td>2019</td>\n",
       "      <td>15</td>\n",
       "      <td>Clay</td>\n",
       "      <td>R32</td>\n",
       "      <td>0</td>\n",
       "      <td>NaN</td>\n",
       "    </tr>\n",
       "    <tr>\n",
       "      <th>3</th>\n",
       "      <td>Costa Calida Region De Murcia</td>\n",
       "      <td>2019</td>\n",
       "      <td>15</td>\n",
       "      <td>Clay</td>\n",
       "      <td>R16</td>\n",
       "      <td>597</td>\n",
       "      <td>NaN</td>\n",
       "    </tr>\n",
       "    <tr>\n",
       "      <th>4</th>\n",
       "      <td>Barcelona Open</td>\n",
       "      <td>2019</td>\n",
       "      <td>15</td>\n",
       "      <td>Clay</td>\n",
       "      <td>Q1</td>\n",
       "      <td>505</td>\n",
       "      <td>NaN</td>\n",
       "    </tr>\n",
       "    <tr>\n",
       "      <th>...</th>\n",
       "      <td>...</td>\n",
       "      <td>...</td>\n",
       "      <td>...</td>\n",
       "      <td>...</td>\n",
       "      <td>...</td>\n",
       "      <td>...</td>\n",
       "      <td>...</td>\n",
       "    </tr>\n",
       "    <tr>\n",
       "      <th>79</th>\n",
       "      <td>Nitto ATP Finals</td>\n",
       "      <td>2023</td>\n",
       "      <td>20</td>\n",
       "      <td>Hard</td>\n",
       "      <td>SF</td>\n",
       "      <td>2</td>\n",
       "      <td>NaN</td>\n",
       "    </tr>\n",
       "    <tr>\n",
       "      <th>80</th>\n",
       "      <td>Australian Open</td>\n",
       "      <td>2024</td>\n",
       "      <td>20</td>\n",
       "      <td>Hard</td>\n",
       "      <td>QF</td>\n",
       "      <td>2</td>\n",
       "      <td>NaN</td>\n",
       "    </tr>\n",
       "    <tr>\n",
       "      <th>81</th>\n",
       "      <td>Argentina Open</td>\n",
       "      <td>2024</td>\n",
       "      <td>20</td>\n",
       "      <td>Clay</td>\n",
       "      <td>SF</td>\n",
       "      <td>2</td>\n",
       "      <td>NaN</td>\n",
       "    </tr>\n",
       "    <tr>\n",
       "      <th>82</th>\n",
       "      <td>Rio Open</td>\n",
       "      <td>2024</td>\n",
       "      <td>20</td>\n",
       "      <td>Clay</td>\n",
       "      <td>R32</td>\n",
       "      <td>2</td>\n",
       "      <td>NaN</td>\n",
       "    </tr>\n",
       "    <tr>\n",
       "      <th>83</th>\n",
       "      <td>ATP Masters 1000 Indian Wells</td>\n",
       "      <td>2024</td>\n",
       "      <td>20</td>\n",
       "      <td>Hard</td>\n",
       "      <td>W</td>\n",
       "      <td>2</td>\n",
       "      <td>Successfully defended his title and his first ...</td>\n",
       "    </tr>\n",
       "  </tbody>\n",
       "</table>\n",
       "<p>84 rows × 7 columns</p>\n",
       "</div>"
      ],
      "text/plain": [
       "                       Tournament  Year  Age Surface Round  Rank  \\\n",
       "0                    ITF Spain F5  2018   15    Clay    QF     0   \n",
       "1               ITF M15 Palmanova  2019   15    Clay    SF     0   \n",
       "2     Alicante Ferrero Challenger  2019   15    Clay   R32     0   \n",
       "3   Costa Calida Region De Murcia  2019   15    Clay   R16   597   \n",
       "4                  Barcelona Open  2019   15    Clay    Q1   505   \n",
       "..                            ...   ...  ...     ...   ...   ...   \n",
       "79               Nitto ATP Finals  2023   20    Hard    SF     2   \n",
       "80                Australian Open  2024   20    Hard    QF     2   \n",
       "81                 Argentina Open  2024   20    Clay    SF     2   \n",
       "82                       Rio Open  2024   20    Clay   R32     2   \n",
       "83  ATP Masters 1000 Indian Wells  2024   20    Hard     W     2   \n",
       "\n",
       "                                        Age Milestone  \n",
       "0                                          Turned pro  \n",
       "1                                                 NaN  \n",
       "2                                                 NaN  \n",
       "3                                                 NaN  \n",
       "4                                                 NaN  \n",
       "..                                                ...  \n",
       "79                                                NaN  \n",
       "80                                                NaN  \n",
       "81                                                NaN  \n",
       "82                                                NaN  \n",
       "83  Successfully defended his title and his first ...  \n",
       "\n",
       "[84 rows x 7 columns]"
      ]
     },
     "execution_count": 4,
     "metadata": {},
     "output_type": "execute_result"
    }
   ],
   "source": [
    "# Read file\n",
    "df = pd.read_excel(file)\n",
    "df"
   ]
  },
  {
   "cell_type": "code",
   "execution_count": 27,
   "id": "139cded6-888e-46c5-bec0-8b0f6fddb778",
   "metadata": {},
   "outputs": [
    {
     "data": {
      "text/plain": [
       "24"
      ]
     },
     "execution_count": 27,
     "metadata": {},
     "output_type": "execute_result"
    }
   ],
   "source": [
    "# Total number of age milestones achieved\n",
    "milestone_count = df['Age Milestone'].value_counts()\n",
    "total = milestone_count.sum()\n",
    "total"
   ]
  },
  {
   "cell_type": "code",
   "execution_count": 39,
   "id": "443c559c-aea8-42a0-9dcc-38f1e6701f20",
   "metadata": {},
   "outputs": [
    {
     "data": {
      "text/plain": [
       "21"
      ]
     },
     "execution_count": 39,
     "metadata": {},
     "output_type": "execute_result"
    }
   ],
   "source": [
    "# Total number of tournaments won\n",
    "wins = df['Round'] == 'W'\n",
    "total_wins = wins.sum()\n",
    "total_wins"
   ]
  },
  {
   "cell_type": "code",
   "execution_count": 61,
   "id": "9f0d6e89-3c2d-4748-80c8-3720d785fd19",
   "metadata": {},
   "outputs": [
    {
     "data": {
      "text/plain": [
       "13"
      ]
     },
     "execution_count": 61,
     "metadata": {},
     "output_type": "execute_result"
    }
   ],
   "source": [
    "# Total number of tournaments won on clay courts\n",
    "clay = (df['Surface'] == 'Clay') & (df['Round'] == 'W')\n",
    "clay_wins = clay.sum()\n",
    "clay_wins"
   ]
  },
  {
   "cell_type": "code",
   "execution_count": 47,
   "id": "3e1dd3df-c1cb-47cc-9dc0-fe496761cc7e",
   "metadata": {},
   "outputs": [
    {
     "data": {
      "text/plain": [
       "6"
      ]
     },
     "execution_count": 47,
     "metadata": {},
     "output_type": "execute_result"
    }
   ],
   "source": [
    "# Total number of tournaments won on hard courts\n",
    "hard = (df['Surface'] == 'Hard') & (df['Round'] == 'W')\n",
    "hard_wins = hard.sum()\n",
    "hard_wins"
   ]
  },
  {
   "cell_type": "code",
   "execution_count": 49,
   "id": "eca9b124-360b-454c-9ece-5fe837c08337",
   "metadata": {},
   "outputs": [
    {
     "data": {
      "text/plain": [
       "2"
      ]
     },
     "execution_count": 49,
     "metadata": {},
     "output_type": "execute_result"
    }
   ],
   "source": [
    "# Total number of tournaments won on grass courts\n",
    "grass = (df['Surface'] == 'Grass') & (df['Round'] == 'W')\n",
    "grass_wins = grass.sum()\n",
    "grass_wins"
   ]
  },
  {
   "cell_type": "code",
   "execution_count": 53,
   "id": "134684c6-75fa-46a4-b616-82b0e1fe6db0",
   "metadata": {},
   "outputs": [],
   "source": [
    "import matplotlib.pyplot as plt"
   ]
  },
  {
   "cell_type": "code",
   "execution_count": 73,
   "id": "dc914e02-c609-40d1-828f-219eef2fc905",
   "metadata": {},
   "outputs": [
    {
     "data": {
      "image/png": "[encoded data removed]",
      "text/plain": [
       "<Figure size 640x480 with 1 Axes>"
      ]
     },
     "metadata": {},
     "output_type": "display_data"
    }
   ],
   "source": [
    "surface_wins = df[df['Round'] == 'W'].groupby('Surface').size()\n",
    "\n",
    "# Bar chart displaying the # of wins on each surface\n",
    "surface_wins.plot(kind='bar', color='skyblue')\n",
    "plt.title('Number of Wins on Each Surface')\n",
    "plt.xlabel('Surface')\n",
    "plt.ylabel('Number of Wins')\n",
    "plt.show()"
   ]
  },
  {
   "cell_type": "code",
   "execution_count": null,
   "id": "74fbdb05-7911-4695-b615-924cd2d93527",
   "metadata": {},
   "outputs": [],
   "source": []
  }
 ],
 "metadata": {
  "kernelspec": {
   "display_name": "anaconda-panel-2023.05-py310",
   "language": "python",
   "name": "conda-env-anaconda-panel-2023.05-py310-py"
  },
  "language_info": {
   "codemirror_mode": {
    "name": "ipython",
    "version": 3
   },
   "file_extension": ".py",
   "mimetype": "text/x-python",
   "name": "python",
   "nbconvert_exporter": "python",
   "pygments_lexer": "ipython3",
   "version": "3.11.5"
  }
 },
 "nbformat": 4,
 "nbformat_minor": 5
}
